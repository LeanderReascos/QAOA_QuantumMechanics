{
 "cells": [
  {
   "cell_type": "code",
   "execution_count": 1,
   "metadata": {},
   "outputs": [],
   "source": [
    "from qiskit import QuantumCircuit, ClassicalRegister, QuantumRegister, Aer, transpile\n",
    "from qiskit.circuit.library.standard_gates import RYGate, PhaseGate\n",
    "from qiskit.visualization import plot_histogram\n",
    "import matplotlib.pyplot as plt\n",
    "import numpy as np"
   ]
  },
  {
   "cell_type": "code",
   "execution_count": 2,
   "metadata": {},
   "outputs": [],
   "source": [
    "def execute_circuit(qc, shots=1024, device=None):\n",
    "    device = Aer.get_backend('qasm_simulator') if device is None else device\n",
    "    transpiled_circuit = transpile(qc, device)\n",
    "    counts = device.run(transpiled_circuit, shots=shots).result().get_counts()\n",
    "    return counts\n",
    "\n",
    "def basis_states_probs(counts):\n",
    "    n = len(list(counts.keys())[0])\n",
    "    N = sum(list(counts.values()))\n",
    "    return np.array([counts[np.binary_repr(vals,n)]/N if counts.get(np.binary_repr(vals,n)) is not None else 0 for vals in range(2**n)])\n"
   ]
  },
  {
   "cell_type": "code",
   "execution_count": 3,
   "metadata": {},
   "outputs": [],
   "source": [
    "def eH_mixer(n_qubits,beta,i):\n",
    "    q_register = QuantumRegister(n_qubits)\n",
    "    qc = QuantumCircuit(q_register,name=f'$\\\\beta_{i}$\\n$H_m$')\n",
    "    [qc.rx(2*beta,q) for q in q_register]\n",
    "    return qc.to_gate()"
   ]
  },
  {
   "cell_type": "code",
   "execution_count": 4,
   "metadata": {},
   "outputs": [],
   "source": [
    "def init_state(n_qubits):\n",
    "    q_register = QuantumRegister(n_qubits)\n",
    "    qc = QuantumCircuit(q_register,name=f'init')\n",
    "    [qc.h(q) for q in q_register]\n",
    "    return qc"
   ]
  },
  {
   "cell_type": "code",
   "execution_count": 5,
   "metadata": {},
   "outputs": [],
   "source": [
    "def eH_particle_ring(n_qubits,alpha,i):\n",
    "    q_register = QuantumRegister(n_qubits)\n",
    "    qc = QuantumCircuit(q_register,name=f'$\\\\alpha_{i}$\\n$H_c$')\n",
    "    qc.p(alpha,0)\n",
    "    return qc.to_gate()"
   ]
  },
  {
   "cell_type": "code",
   "execution_count": 6,
   "metadata": {},
   "outputs": [],
   "source": [
    "def QAOA(n_qubtis,initial_state,mixer,cost,parameters,N):\n",
    "    q_register = QuantumRegister(n_qubtis,'q')\n",
    "    qc = QuantumCircuit(q_register,name='QAOA')\n",
    "    qc = qc.compose(initial_state(n_qubtis),q_register)\n",
    "    for p in range(N):\n",
    "        alpha,beta = parameters[2*p],parameters[p+1]\n",
    "        qc = qc.compose(cost(n_qubtis,alpha,p),q_register)\n",
    "        qc = qc.compose(mixer(n_qubtis,beta,p),q_register)\n",
    "    qc.measure_all()\n",
    "    return qc"
   ]
  },
  {
   "cell_type": "code",
   "execution_count": 12,
   "metadata": {},
   "outputs": [],
   "source": [
    "n_qubits =1\n",
    "N = 1\n",
    "parameters = np.ones(2*N)\n",
    "\n",
    "qc = QAOA(n_qubits,init_state,eH_mixer,eH_particle_ring,parameters,N)\n",
    "fig = qc.draw(output='mpl')"
   ]
  },
  {
   "cell_type": "code",
   "execution_count": 8,
   "metadata": {},
   "outputs": [],
   "source": [
    "fig.savefig('Graphics/QAOA_F1.pdf')"
   ]
  },
  {
   "cell_type": "code",
   "execution_count": 13,
   "metadata": {},
   "outputs": [],
   "source": [
    "def cost_function(n_qubits=1, params=None, N=1):\n",
    "    params = np.random.random(2*N) if params is None else params\n",
    "    full_qaoa_circuit = QAOA(n_qubits,init_state,eH_mixer,eH_particle_ring,params,N)\n",
    "    return 1/2-1/2*np.sum(basis_states_probs(execute_circuit(full_qaoa_circuit))*np.array([1,-1]))"
   ]
  },
  {
   "cell_type": "code",
   "execution_count": 18,
   "metadata": {},
   "outputs": [
    {
     "data": {
      "text/plain": [
       "0.3974609375"
      ]
     },
     "execution_count": 18,
     "metadata": {},
     "output_type": "execute_result"
    }
   ],
   "source": [
    "cost_function()"
   ]
  },
  {
   "cell_type": "code",
   "execution_count": 19,
   "metadata": {},
   "outputs": [
    {
     "data": {
      "text/plain": [
       "(array([1.67103322, 0.78226395]), 0.001953125)"
      ]
     },
     "execution_count": 19,
     "metadata": {},
     "output_type": "execute_result"
    }
   ],
   "source": [
    "from qiskit.algorithms.optimizers import COBYLA\n",
    "\n",
    "N=1\n",
    "params = np.random.random(2*N)\n",
    "optimizer = COBYLA()\n",
    "\n",
    "objective_function = lambda pp: cost_function(params=pp,N=N)\n",
    "opt_var, opt_value, _ = optimizer.optimize(2*N, objective_function, initial_point=params)\n",
    "\n",
    "opt_var,opt_value"
   ]
  },
  {
   "cell_type": "code",
   "execution_count": 20,
   "metadata": {},
   "outputs": [],
   "source": [
    "new_qc = QAOA(n_qubits,init_state,eH_mixer,eH_particle_ring,opt_var,N)\n",
    "\n",
    "counts = execute_circuit(new_qc, device=Aer.get_backend('qasm_simulator') )\n",
    "fig = plot_histogram(counts)"
   ]
  },
  {
   "cell_type": "code",
   "execution_count": 57,
   "metadata": {},
   "outputs": [],
   "source": [
    "fig.savefig('Graphics/dist_F1.pdf')"
   ]
  },
  {
   "cell_type": "code",
   "execution_count": 21,
   "metadata": {},
   "outputs": [],
   "source": [
    "def eH_nParticle(n_qubits,alpha,i):\n",
    "    q_register = QuantumRegister(n_qubits)\n",
    "    qc = QuantumCircuit(q_register,name=f'$\\\\alpha_{i}$\\n$H_c$')\n",
    "    [qc.p(2**i*alpha,q) for i,q in enumerate(q_register)]\n",
    "    return qc"
   ]
  },
  {
   "cell_type": "code",
   "execution_count": 22,
   "metadata": {},
   "outputs": [],
   "source": [
    "def get_angle(s,j, x):\n",
    "    a=0\n",
    "    b=0\n",
    "    for l in range(2**(s-1)):\n",
    "        a+=x[(2*j - 1)*(2**(s-1)) + l]\n",
    "    for l in range(2**s):\n",
    "        b+=x[(j - 1)*(2**s) + l]\n",
    "\n",
    "    if b==0:\n",
    "        return 0\n",
    "    else:\n",
    "        return 2*np.arcsin(np.sqrt(a/b))\n",
    "\n",
    "def mottonen(x):\n",
    "    n_qubits = int(np.ceil(np.log2(len(x))))\n",
    "    x = x/np.sum(x) if n_qubits == np.log2(len(x)) else np.array(list(x)+[0 for _ in range(len(x),2**n_qubits)])/np.sum(x)\n",
    "        \n",
    "    qc = QuantumCircuit(n_qubits)\n",
    "    qc.append(RYGate(-get_angle(n_qubits,1,x)),[n_qubits-1])\n",
    "    for s in range(n_qubits-2,-1,-1):        \n",
    "        [qc.append(RYGate(-get_angle(s+1,j+1,x)).control(n_qubits-s-1,ctrl_state=np.binary_repr(j,n_qubits-s-1)),list(range(s+1,n_qubits))+[s]) for j in range(2**(n_qubits-s-1)-1,-1,-1)]\n",
    "\n",
    "    return qc"
   ]
  },
  {
   "cell_type": "code",
   "execution_count": 23,
   "metadata": {},
   "outputs": [],
   "source": [
    "def H_nparticle(n_qubits,init_state=None):\n",
    "    q_register = QuantumRegister(n_qubits)\n",
    "    qc = QuantumCircuit(q_register)\n",
    "    qc = qc.compose(mottonen(init_state),range(n_qubits)) if init_state is not None else qc\n",
    "    qc.measure_all()\n",
    "    return qc"
   ]
  },
  {
   "cell_type": "code",
   "execution_count": 24,
   "metadata": {},
   "outputs": [],
   "source": [
    "def cost_Hn(n,probs):\n",
    "    ps = np.zeros((n,2))\n",
    "    for i,p in enumerate(probs):\n",
    "        s = np.binary_repr(i,n)\n",
    "        for j,c in enumerate(s[::-1]):\n",
    "            ps[j][int(c)] += p\n",
    "    return ((2**n-1)/2 - np.sum([2**(i-1)*(p0-p1) for i,(p0,p1) in enumerate(ps)]))**2"
   ]
  },
  {
   "cell_type": "code",
   "execution_count": 25,
   "metadata": {},
   "outputs": [
    {
     "data": {
      "text/plain": [
       "13.3681640625"
      ]
     },
     "execution_count": 25,
     "metadata": {},
     "output_type": "execute_result"
    }
   ],
   "source": [
    "n_qubits = 3\n",
    "state_vector = np.random.random(2**n_qubits)\n",
    "state_vector /= np.sum(state_vector)\n",
    "qc = H_nparticle(n_qubits,init_state=state_vector)\n",
    "cost_Hn(n_qubits,basis_states_probs(execute_circuit(qc)))"
   ]
  },
  {
   "cell_type": "code",
   "execution_count": 26,
   "metadata": {},
   "outputs": [],
   "source": [
    "n_qubits =3\n",
    "N = 3\n",
    "parameters = np.ones(2*N)\n",
    "\n",
    "qc = QAOA(n_qubits,init_state,eH_mixer,eH_nParticle,parameters,N)\n",
    "fig = qc.draw(output='mpl')"
   ]
  },
  {
   "cell_type": "code",
   "execution_count": 49,
   "metadata": {},
   "outputs": [],
   "source": [
    "fig.savefig('Graphics/QAOA_n3F.pdf')"
   ]
  },
  {
   "cell_type": "code",
   "execution_count": 28,
   "metadata": {},
   "outputs": [
    {
     "data": {
      "text/plain": [
       "1.3369140625"
      ]
     },
     "execution_count": 28,
     "metadata": {},
     "output_type": "execute_result"
    }
   ],
   "source": [
    "def cost_function2(n_qubits=1, params=None, N=1):\n",
    "    params = np.random.random(2*N) if params is None else params\n",
    "    full_qaoa_circuit = QAOA(n_qubits,init_state,eH_mixer,eH_nParticle,params,N)\n",
    "    return cost_Hn(n_qubits,basis_states_probs(execute_circuit(full_qaoa_circuit)))\n",
    "\n",
    "cost_function2(2)"
   ]
  },
  {
   "cell_type": "code",
   "execution_count": 29,
   "metadata": {},
   "outputs": [
    {
     "data": {
      "text/plain": [
       "(array([ 2.08201765,  1.45692248,  0.21554478,  0.88574423, -0.87430048,\n",
       "        -0.18045336]),\n",
       " 0.9632349014282227)"
      ]
     },
     "execution_count": 29,
     "metadata": {},
     "output_type": "execute_result"
    }
   ],
   "source": [
    "N=3\n",
    "n_qubits =3\n",
    "params = np.random.random(2*N)\n",
    "optimizer = COBYLA()\n",
    "\n",
    "\n",
    "objective_function = lambda pp: cost_function2(n_qubits=n_qubits,params=pp,N=N)\n",
    "opt_var, opt_value, _ = optimizer.optimize(2*N, objective_function, initial_point=params)\n",
    "\n",
    "opt_var,opt_value"
   ]
  },
  {
   "cell_type": "code",
   "execution_count": 30,
   "metadata": {},
   "outputs": [
    {
     "data": {
      "image/png": "[encoded data removed]",
      "text/plain": [
       "<Figure size 801.592x264.88 with 1 Axes>"
      ]
     },
     "execution_count": 30,
     "metadata": {},
     "output_type": "execute_result"
    }
   ],
   "source": [
    "new_qc = QAOA(n_qubits,init_state,eH_mixer,eH_nParticle,opt_var,N)\n",
    "\n",
    "qc_opt = H_nparticle(n_qubits,basis_states_probs(execute_circuit(new_qc)))\n",
    "qc_opt.draw(output='mpl')"
   ]
  },
  {
   "cell_type": "code",
   "execution_count": 31,
   "metadata": {},
   "outputs": [
    {
     "name": "stdout",
     "output_type": "stream",
     "text": [
      "0.9271583557128906\n"
     ]
    }
   ],
   "source": [
    "counts = execute_circuit(qc_opt)\n",
    "print(cost_Hn(n_qubits,basis_states_probs(counts)))\n",
    "fig = plot_histogram(counts)"
   ]
  },
  {
   "cell_type": "code",
   "execution_count": 47,
   "metadata": {},
   "outputs": [],
   "source": [
    "fig.savefig(\"Graphics/dist_F3.pdf\")"
   ]
  }
 ],
 "metadata": {
  "interpreter": {
   "hash": "28388f68c2522d34938d4cceb41ff8ff9b335b2724975aa38e0611e5f9fe848c"
  },
  "kernelspec": {
   "display_name": "Python 3.9.7 ('base')",
   "language": "python",
   "name": "python3"
  },
  "language_info": {
   "codemirror_mode": {
    "name": "ipython",
    "version": 3
   },
   "file_extension": ".py",
   "mimetype": "text/x-python",
   "name": "python",
   "nbconvert_exporter": "python",
   "pygments_lexer": "ipython3",
   "version": "3.8.8"
  },
  "orig_nbformat": 4
 },
 "nbformat": 4,
 "nbformat_minor": 2
}
